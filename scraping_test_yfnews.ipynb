{
 "cells": [
  {
   "cell_type": "code",
   "execution_count": 6,
   "metadata": {},
   "outputs": [
    {
     "name": "stdout",
     "output_type": "stream",
     "text": [
      "1. Amazon.com, Inc. (AMZN) Stock Price, News, Quote & History\n",
      "Link: https://finance.yahoo.com/quote/AMZN/\n",
      "Date: 3 days ago\n",
      "\n",
      "2. Apple Inc. (AAPL) Stock Historical Prices & Data\n",
      "Link: https://finance.yahoo.com/quote/AAPL/history/\n",
      "Date: 28 Apr 2017\n",
      "\n",
      "3. Uber Technologies, Inc. (UBER) Stock Price, News, Quote & History\n",
      "Link: https://finance.yahoo.com/quote/UBER/\n",
      "Date: 1 week ago\n",
      "\n",
      "4. Advanced Micro Devices, Inc. (AMD) Stock Price, News, Quote & History\n",
      "Link: https://finance.yahoo.com/quote/AMD/\n",
      "Date: 10 Jul 2016\n",
      "\n",
      "5. META_TITLE_QUOTE\n",
      "Link: https://finance.yahoo.com/quote/NFLX/\n",
      "Date: 8 Jul 2016\n",
      "\n",
      "6. AAPL,CSCO,CVS,F,GILD,GOOG,HPQ,MSFT,NUE,QCOM | Stock Prices | Quote Comparison\n",
      "Link: https://finance.yahoo.com/quote/AAPL,CSCO,CVS,F,GILD,GOOG,HPQ,MSFT,NUE,QCOM/news/?ltr=1\n",
      "Date: 4 days ago\n",
      "\n",
      "7. AAPL Mar 2025 275.000 call (AAPL250321C00275000) stock price, news, quote and history\n",
      "Link: https://uk.finance.yahoo.com/quote/AAPL250321C00275000/\n",
      "Date: 4 days ago\n",
      "\n"
     ]
    }
   ],
   "source": [
    "from selenium import webdriver\n",
    "from selenium.webdriver.chrome.options import Options\n",
    "from bs4 import BeautifulSoup\n",
    "import time\n",
    "\n",
    "def scrape_aapl_news(max_items=7, start_date=\"2022-03-20\", end_date=\"2025-03-20\"):\n",
    "    # Construct the Google News search query for AAPL on Yahoo Finance\n",
    "    query = f\"AAPL site:finance.yahoo.com after:{start_date} before:{end_date}\"\n",
    "    url = f\"https://www.google.com/search?q={query}&tbm=nws\"\n",
    "\n",
    "    # Set up Selenium WebDriver\n",
    "    chrome_options = Options()\n",
    "    chrome_options.add_argument(\"--headless\")  # Run in background\n",
    "    driver = webdriver.Chrome(options=chrome_options)\n",
    "\n",
    "    try:\n",
    "        # Load the Google News page\n",
    "        driver.get(url)\n",
    "        time.sleep(3)  # Wait for dynamic content to load\n",
    "\n",
    "        # Parse the page source with BeautifulSoup\n",
    "        soup = BeautifulSoup(driver.page_source, \"html.parser\")\n",
    "\n",
    "        # Find news items (Google News title class)\n",
    "        news_items = soup.find_all(\"div\", class_=\"n0jPhd ynAwRc MBeuO nDgy9d\")  # Title class\n",
    "\n",
    "        if not news_items:\n",
    "            print(\"No AAPL news items found. Google News structure may have changed.\")\n",
    "            return []\n",
    "\n",
    "        # Extract titles, links, and dates\n",
    "        scraped_data = []\n",
    "        for idx, item in enumerate(news_items[:max_items]):\n",
    "            # Extract title\n",
    "            title = item.get_text(strip=True)\n",
    "            \n",
    "            # Extract link\n",
    "            link_elem = item.find_parent(\"a\")\n",
    "            link = link_elem[\"href\"] if link_elem else \"No link\"\n",
    "\n",
    "            # Extract date from <span> inside <div class=\"OSrXXb rbYSKb LfVVr\">\n",
    "            date_container = item.find_parent().find(\"div\", class_=\"OSrXXb rbYSKb LfVVr\")\n",
    "            date = \"Unknown date\"\n",
    "            if date_container:\n",
    "                date_span = date_container.find(\"span\")\n",
    "                if date_span:\n",
    "                    date = date_span.get_text(strip=True)\n",
    "\n",
    "            scraped_data.append({\"title\": title, \"link\": link, \"date\": date})\n",
    "\n",
    "        return scraped_data\n",
    "\n",
    "    except Exception as e:\n",
    "        print(f\"An error occurred: {e}\")\n",
    "        return []\n",
    "    finally:\n",
    "        driver.quit()\n",
    "\n",
    "# Example usage\n",
    "if __name__ == \"__main__\":\n",
    "    news = scrape_aapl_news(max_items=7)  # Scrape 5-7 AAPL news items\n",
    "    for idx, item in enumerate(news, 1):\n",
    "        print(f\"{idx}. {item['title']}\")\n",
    "        print(f\"Link: {item['link']}\")\n",
    "        print(f\"Date: {item['date']}\\n\")\n",
    "\n"
   ]
  },
  {
   "cell_type": "code",
   "execution_count": null,
   "metadata": {},
   "outputs": [],
   "source": []
  }
 ],
 "metadata": {
  "kernelspec": {
   "display_name": "Python 3",
   "language": "python",
   "name": "python3"
  },
  "language_info": {
   "codemirror_mode": {
    "name": "ipython",
    "version": 3
   },
   "file_extension": ".py",
   "mimetype": "text/x-python",
   "name": "python",
   "nbconvert_exporter": "python",
   "pygments_lexer": "ipython3",
   "version": "3.10.0"
  },
  "orig_nbformat": 4,
  "vscode": {
   "interpreter": {
    "hash": "aee8b7b246df8f9039afb4144a1f6fd8d2ca17a180786b69acc140d282b71a49"
   }
  }
 },
 "nbformat": 4,
 "nbformat_minor": 2
}
